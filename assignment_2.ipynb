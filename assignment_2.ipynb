{
  "nbformat": 4,
  "nbformat_minor": 0,
  "metadata": {
    "colab": {
      "provenance": []
    },
    "kernelspec": {
      "name": "python3",
      "display_name": "Python 3"
    },
    "language_info": {
      "name": "python"
    }
  },
  "cells": [
    {
      "cell_type": "markdown",
      "source": [
        "**Coding the Likelihood Function**\n",
        "\n",
        "1.   Conditional Likelihood\n",
        "2.   Unconditional Likelihood"
      ],
      "metadata": {
        "id": "aYKjiymgEigd"
      }
    },
    {
      "cell_type": "code",
      "execution_count": 1,
      "metadata": {
        "colab": {
          "base_uri": "https://localhost:8080/"
        },
        "id": "di5nkeNqC429",
        "outputId": "55f8bd4c-fdd6-4715-c37e-d179512b4ce6"
      },
      "outputs": [
        {
          "output_type": "stream",
          "name": "stdout",
          "text": [
            "Conditional Log Likelihood: -165.06517231664773\n",
            "Unconditional Log Likelihood: -141.5990074834698\n"
          ]
        }
      ],
      "source": [
        "import numpy as np\n",
        "from scipy.stats import norm\n",
        "\n",
        "def ar7_conditional_likelihood(params, data):\n",
        "    \"\"\"\n",
        "    Calculate the conditional likelihood of an AR(7) model.\n",
        "\n",
        "    Parameters:\n",
        "        params (list): Parameters [phi1, phi2, ..., phi7, sigma^2].\n",
        "        data (array): Array of observed data.\n",
        "\n",
        "    Returns:\n",
        "        float: Log likelihood value.\n",
        "    \"\"\"\n",
        "    phi = params[:-1]\n",
        "    sigma_squared = params[-1]\n",
        "    n = len(data)\n",
        "    ll = 0\n",
        "\n",
        "    # First 7 observations are given, likelihood starts from the 8th observation\n",
        "    for t in range(7, n):\n",
        "        # Calculate mean based on past 7 observations\n",
        "        mean = np.dot(phi, data[t-7:t][::-1])\n",
        "        # Calculate log likelihood contribution of current observation\n",
        "        ll += norm.logpdf(data[t], loc=mean, scale=np.sqrt(sigma_squared))\n",
        "\n",
        "    return ll\n",
        "\n",
        "def ar7_unconditional_likelihood(params, data):\n",
        "    \"\"\"\n",
        "    Calculate the unconditional likelihood of an AR(7) model.\n",
        "\n",
        "    Parameters:\n",
        "        params (list): Parameters [phi1, phi2, ..., phi7, sigma^2].\n",
        "        data (array): Array of observed data.\n",
        "\n",
        "    Returns:\n",
        "        float: Log likelihood value.\n",
        "    \"\"\"\n",
        "    phi = params[:-1]\n",
        "    sigma_squared = params[-1]\n",
        "    n = len(data)\n",
        "    ll = 0\n",
        "\n",
        "    # Calculate the unconditional mean of the AR(7) process\n",
        "    mu = np.dot(phi, data[:7][::-1])\n",
        "\n",
        "    # Calculate log likelihood for each observation using unconditional mean\n",
        "    for t in range(n):\n",
        "        ll += norm.logpdf(data[t], loc=mu, scale=np.sqrt(sigma_squared))\n",
        "\n",
        "    return ll\n",
        "\n",
        "# Example usage:\n",
        "# Define some sample data and initial parameters\n",
        "data = np.random.normal(size=100)  # Sample data\n",
        "initial_params = [0.5, -0.2, 0.3, -0.1, 0.2, -0.4, 0.1, 1.0]  # Initial parameters\n",
        "\n",
        "# Calculate conditional likelihood\n",
        "conditional_ll = ar7_conditional_likelihood(initial_params, data)\n",
        "print(\"Conditional Log Likelihood:\", conditional_ll)\n",
        "\n",
        "# Calculate unconditional likelihood\n",
        "unconditional_ll = ar7_unconditional_likelihood(initial_params, data)\n",
        "print(\"Unconditional Log Likelihood:\", unconditional_ll)"
      ]
    },
    {
      "cell_type": "markdown",
      "source": [
        "**Maximizing the Likelihood**"
      ],
      "metadata": {
        "id": "d7Cr4ymFExtl"
      }
    },
    {
      "cell_type": "code",
      "source": [
        "import numpy as np\n",
        "from scipy.optimize import minimize\n",
        "\n",
        "# Define the AR(7) conditional likelihood function\n",
        "def ar7_conditional_likelihood(params, data):\n",
        "    phi = params[:-1]\n",
        "    sigma_squared = params[-1]\n",
        "    n = len(data)\n",
        "    ll = 0\n",
        "\n",
        "    for t in range(7, n):\n",
        "        mean = np.dot(phi, data[t-7:t][::-1])\n",
        "        ll += norm.logpdf(data[t], loc=mean, scale=np.sqrt(sigma_squared))\n",
        "\n",
        "    return -ll  # Return negative log likelihood to be minimized\n",
        "\n",
        "# Define the AR(7) unconditional likelihood function\n",
        "def ar7_unconditional_likelihood(params, data):\n",
        "    phi = params[:-1]\n",
        "    sigma_squared = params[-1]\n",
        "    n = len(data)\n",
        "    mu = np.dot(phi, data[:7][::-1])\n",
        "    ll = np.sum(norm.logpdf(data, loc=mu, scale=np.sqrt(sigma_squared)))\n",
        "    return -ll  # Return negative log likelihood to be minimized\n",
        "\n",
        "# Example usage:\n",
        "# Define some sample data\n",
        "data = np.random.normal(size=100)\n",
        "\n",
        "# Initial parameter guess\n",
        "initial_params = [0.5, -0.2, 0.3, -0.1, 0.2, -0.4, 0.1, 1.0]\n",
        "\n",
        "# Maximize conditional likelihood\n",
        "result_conditional = minimize(ar7_conditional_likelihood, initial_params, args=(data,), method='Nelder-Mead')\n",
        "print(\"Maximized Conditional Likelihood Parameters:\", result_conditional.x)\n",
        "\n",
        "# Maximize unconditional likelihood\n",
        "result_unconditional = minimize(ar7_unconditional_likelihood, initial_params, args=(data,), method='Nelder-Mead')\n",
        "print(\"Maximized Unconditional Likelihood Parameters:\", result_unconditional.x)"
      ],
      "metadata": {
        "colab": {
          "base_uri": "https://localhost:8080/"
        },
        "id": "yxjqmfhxExO1",
        "outputId": "a64be6f4-e63c-403b-a828-834a1bbed009"
      },
      "execution_count": 5,
      "outputs": [
        {
          "output_type": "stream",
          "name": "stdout",
          "text": [
            "Maximized Conditional Likelihood Parameters: [-0.00337428  0.02467075 -0.05303442  0.02543722  0.01445093 -0.0907461\n",
            "  0.05285069  0.96760215]\n",
            "Maximized Unconditional Likelihood Parameters: [ 0.47060253 -0.20308887  0.30712245 -0.10227527  0.20074731 -0.41812716\n",
            "  0.10012779  0.94973129]\n"
          ]
        }
      ]
    },
    {
      "cell_type": "markdown",
      "source": [
        "**Parameter Estimation**"
      ],
      "metadata": {
        "id": "wdMkN-L8FpJY"
      }
    },
    {
      "cell_type": "code",
      "source": [
        "import numpy as np\n",
        "import pandas as pd\n",
        "from scipy.optimize import minimize\n",
        "\n",
        "# Step 1: Data Preprocessing\n",
        "# Load FRED-MD dataset\n",
        "data = pd.read_csv('/content/current.csv')  # Replace 'path_to_your_dataset.csv' with the actual path\n",
        "\n",
        "# Assuming 'INDPRO' is the column name for the INDPRO variable\n",
        "indpro = data['INDPRO']\n",
        "\n",
        "# Calculate monthly log differences\n",
        "log_diff_indpro = np.log(indpro).diff().dropna()\n",
        "\n",
        "# Step 2: Likelihood Functions\n",
        "def ar7_conditional_likelihood(params, data):\n",
        "    phi, sigma_sq = params[:7], params[7]\n",
        "    n = len(data)\n",
        "    ll = 0\n",
        "    for t in range(7, n):\n",
        "        yt = data[t]\n",
        "        mu_t = np.dot(phi, data[t-7:t][::-1])  # Reverse the order to align with AR(7) formula\n",
        "        ll += -0.5 * (np.log(2 * np.pi * sigma_sq) + (yt - mu_t)**2 / sigma_sq)\n",
        "    return ll\n",
        "\n",
        "def ar7_unconditional_likelihood(params, data):\n",
        "    phi, sigma_sq = params[:7], params[7]\n",
        "    n = len(data)\n",
        "    mu0 = np.mean(data[:7])  # Initial mean\n",
        "    ll = -0.5 * (7 * np.log(2 * np.pi * sigma_sq) + np.sum((data[:7] - mu0)**2) / sigma_sq)\n",
        "    for t in range(7, n):\n",
        "        yt = data[t]\n",
        "        mu_t = np.dot(phi, data[t-7:t][::-1])  # Reverse the order to align with AR(7) formula\n",
        "        ll += -0.5 * (np.log(2 * np.pi * sigma_sq) + (yt - mu_t)**2 / sigma_sq)\n",
        "    return ll\n",
        "\n",
        "# Step 3: Parameter Estimation\n",
        "# Initial parameter guess\n",
        "initial_params = np.array([0.5, -0.2, 0.3, -0.1, 0.2, -0.4, 0.1, 1.0])\n",
        "\n",
        "# Maximize conditional likelihood\n",
        "result_conditional = minimize(ar7_conditional_likelihood, initial_params, args=(log_diff_indpro,), method='Nelder-Mead')\n",
        "print(\"Maximized Conditional Likelihood Parameters:\", result_conditional.x)\n",
        "\n",
        "# Maximize unconditional likelihood\n",
        "result_unconditional = minimize(ar7_unconditional_likelihood, initial_params, args=(log_diff_indpro,), method='Nelder-Mead')\n",
        "print(\"Maximized Unconditional Likelihood Parameters:\", result_unconditional.x)"
      ],
      "metadata": {
        "colab": {
          "base_uri": "https://localhost:8080/"
        },
        "id": "8AC47qK5G0Ac",
        "outputId": "9e2c6e7f-a68d-4947-ed19-e0225760ce06"
      },
      "execution_count": 8,
      "outputs": [
        {
          "output_type": "stream",
          "name": "stdout",
          "text": [
            "Maximized Conditional Likelihood Parameters: [-1.05849043e+50  1.06746350e+49 -1.73462824e+49  2.64622188e+49\n",
            "  2.68764340e+49 -4.69880006e+49 -3.21491762e+49  6.97645179e+50]\n",
            "Maximized Unconditional Likelihood Parameters: [-1.05849043e+50  1.06746350e+49 -1.73462824e+49  2.64622188e+49\n",
            "  2.68764340e+49 -4.69880006e+49 -3.21491762e+49  6.97645179e+50]\n"
          ]
        }
      ]
    },
    {
      "cell_type": "markdown",
      "source": [
        "**Forecasting**"
      ],
      "metadata": {
        "id": "Fsc6e3ZYKrww"
      }
    },
    {
      "cell_type": "code",
      "source": [
        "import numpy as np\n",
        "\n",
        "# Function to forecast future values\n",
        "def forecast_ar7(params, data, steps):\n",
        "    # Extract parameters\n",
        "    phi = params[:7]\n",
        "    sigma = params[7]\n",
        "\n",
        "    # Initialize forecast array with observed data\n",
        "    forecast = np.copy(data)\n",
        "\n",
        "    # Forecast future values\n",
        "    for i in range(steps):\n",
        "        forecast_next = np.dot(phi, forecast[-7:]) + np.random.normal(0, sigma)\n",
        "        forecast = np.append(forecast, forecast_next)\n",
        "\n",
        "    return forecast\n",
        "\n",
        "# Forecast using conditional likelihood parameters\n",
        "conditional_forecast = forecast_ar7(result_conditional.x, log_diff_indpro, 8)\n",
        "print(\"Conditional Forecast:\", conditional_forecast[-8:])\n",
        "\n",
        "# Forecast using unconditional likelihood parameters\n",
        "unconditional_forecast = forecast_ar7(result_unconditional.x, log_diff_indpro, 8)\n",
        "print(\"Unconditional Forecast:\", unconditional_forecast[-8:])"
      ],
      "metadata": {
        "colab": {
          "base_uri": "https://localhost:8080/"
        },
        "id": "cDTotKjIKnkR",
        "outputId": "e5138c59-be77-43dd-c40b-215b8be5a369"
      },
      "execution_count": 9,
      "outputs": [
        {
          "output_type": "stream",
          "name": "stdout",
          "text": [
            "Conditional Forecast: [-4.07382341e+050  1.30970066e+100 -4.21057974e+149  1.35366670e+199\n",
            " -4.35192692e+248  1.39910865e+298             -inf              nan]\n",
            "Unconditional Forecast: [-1.04086013e+050  3.34627956e+099 -1.07580131e+149  3.45861259e+198\n",
            " -1.11191546e+248  3.57471659e+297             -inf              nan]\n"
          ]
        }
      ]
    }
  ]
}